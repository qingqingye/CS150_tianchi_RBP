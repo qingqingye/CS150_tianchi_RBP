{
 "cells": [
  {
   "cell_type": "code",
   "execution_count": 1,
   "metadata": {},
   "outputs": [],
   "source": [
    "from sklearn import preprocessing\n",
    "from collections import namedtuple\n",
    "from collections import defaultdict\n",
    "from collections import Counter\n",
    "import pandas as pd\n",
    "import numpy as np\n",
    "from pandas import Series,DataFrame\n",
    "\n",
    "# init impuuter:\n",
    "imputer_most_frequent = preprocessing.Imputer(strategy='most_frequent')\n",
    "imputer_mean = preprocessing.Imputer(strategy='mean')\n",
    "\n",
    "# Usage:\n",
    "# DATA.ATTRIBUTE = imputer_most_frequent.fit_transform(DATA.ATTRIBUTE.values[:,np.newaxis])"
   ]
  },
  {
   "cell_type": "code",
   "execution_count": 123,
   "metadata": {},
   "outputs": [],
   "source": [
    "verbose = True\n",
    "def debug_print(*args):\n",
    "    if verbose:\n",
    "        print(*args)"
   ]
  },
  {
   "cell_type": "code",
   "execution_count": 56,
   "metadata": {},
   "outputs": [],
   "source": [
    "# unzip all datafile in ROOT/data_format1/*\n",
    "data_train = pd.read_csv(\"data_format1/train_format1.csv\")\n",
    "data_usr = pd.read_csv(\"data_format1/user_info_format1.csv\").set_index(['user_id'])\n",
    "data_log = pd.read_csv(\"data_format1/user_log_format1.csv\")"
   ]
  },
  {
   "cell_type": "code",
   "execution_count": 57,
   "metadata": {},
   "outputs": [
    {
     "name": "stdout",
     "output_type": "stream",
     "text": [
      "         age_range  gender\n",
      "user_id                   \n",
      "49238          5.0     0.0\n",
      "108242         4.0     1.0\n",
      "365843         4.0     0.0\n",
      "395032         3.0     0.0\n",
      "136016         4.0     1.0\n"
     ]
    }
   ],
   "source": [
    "# Simple fit in empty entries in data_usr.\n",
    "# data_usr ( [user_id], age_range, gender )\n",
    "# >>> data_usr.isna().sum()\n",
    "# age_range    2217\n",
    "# gender       6436\n",
    "# dtype: int64\n",
    "data_usr.age_range = imputer_most_frequent.fit_transform(data_usr.age_range.values[:,np.newaxis])\n",
    "data_usr.gender = imputer_most_frequent.fit_transform(data_usr.gender.values[:,np.newaxis])\n",
    "debug_print(data_usr.sample(5))"
   ]
  },
  {
   "cell_type": "code",
   "execution_count": 60,
   "metadata": {},
   "outputs": [
    {
     "data": {
      "text/html": [
       "<div>\n",
       "<style scoped>\n",
       "    .dataframe tbody tr th:only-of-type {\n",
       "        vertical-align: middle;\n",
       "    }\n",
       "\n",
       "    .dataframe tbody tr th {\n",
       "        vertical-align: top;\n",
       "    }\n",
       "\n",
       "    .dataframe thead th {\n",
       "        text-align: right;\n",
       "    }\n",
       "</style>\n",
       "<table border=\"1\" class=\"dataframe\">\n",
       "  <thead>\n",
       "    <tr style=\"text-align: right;\">\n",
       "      <th></th>\n",
       "      <th>user_id</th>\n",
       "      <th>item_id</th>\n",
       "      <th>cat_id</th>\n",
       "      <th>seller_id</th>\n",
       "      <th>brand_id</th>\n",
       "      <th>time_stamp</th>\n",
       "      <th>action_type</th>\n",
       "    </tr>\n",
       "  </thead>\n",
       "  <tbody>\n",
       "    <tr>\n",
       "      <th>22914918</th>\n",
       "      <td>125029</td>\n",
       "      <td>88287</td>\n",
       "      <td>602</td>\n",
       "      <td>2823</td>\n",
       "      <td>1128.0</td>\n",
       "      <td>705</td>\n",
       "      <td>0</td>\n",
       "    </tr>\n",
       "    <tr>\n",
       "      <th>12984566</th>\n",
       "      <td>383465</td>\n",
       "      <td>560161</td>\n",
       "      <td>1075</td>\n",
       "      <td>2514</td>\n",
       "      <td>1149.0</td>\n",
       "      <td>626</td>\n",
       "      <td>0</td>\n",
       "    </tr>\n",
       "    <tr>\n",
       "      <th>11705347</th>\n",
       "      <td>287210</td>\n",
       "      <td>329182</td>\n",
       "      <td>1604</td>\n",
       "      <td>203</td>\n",
       "      <td>6089.0</td>\n",
       "      <td>814</td>\n",
       "      <td>0</td>\n",
       "    </tr>\n",
       "    <tr>\n",
       "      <th>51682502</th>\n",
       "      <td>98025</td>\n",
       "      <td>901457</td>\n",
       "      <td>1024</td>\n",
       "      <td>3251</td>\n",
       "      <td>3549.0</td>\n",
       "      <td>1101</td>\n",
       "      <td>0</td>\n",
       "    </tr>\n",
       "    <tr>\n",
       "      <th>40536517</th>\n",
       "      <td>25601</td>\n",
       "      <td>1058100</td>\n",
       "      <td>1280</td>\n",
       "      <td>3734</td>\n",
       "      <td>2045.0</td>\n",
       "      <td>1107</td>\n",
       "      <td>0</td>\n",
       "    </tr>\n",
       "  </tbody>\n",
       "</table>\n",
       "</div>"
      ],
      "text/plain": [
       "          user_id  item_id  cat_id  seller_id  brand_id  time_stamp  \\\n",
       "22914918   125029    88287     602       2823    1128.0         705   \n",
       "12984566   383465   560161    1075       2514    1149.0         626   \n",
       "11705347   287210   329182    1604        203    6089.0         814   \n",
       "51682502    98025   901457    1024       3251    3549.0        1101   \n",
       "40536517    25601  1058100    1280       3734    2045.0        1107   \n",
       "\n",
       "          action_type  \n",
       "22914918            0  \n",
       "12984566            0  \n",
       "11705347            0  \n",
       "51682502            0  \n",
       "40536517            0  "
      ]
     },
     "execution_count": 60,
     "metadata": {},
     "output_type": "execute_result"
    }
   ],
   "source": [
    "data_log.brand_id = imputer_mean.fit_transform(data_log.brand_id.values[:,np.newaxis])\n",
    "data_log.sample(5)"
   ]
  },
  {
   "cell_type": "code",
   "execution_count": 84,
   "metadata": {},
   "outputs": [],
   "source": [
    "trainX = pd.DataFrame(data_train.user_id, data_train.merchant_id)\n",
    "trainy = data_train.label"
   ]
  },
  {
   "cell_type": "code",
   "execution_count": 124,
   "metadata": {},
   "outputs": [
    {
     "name": "stdout",
     "output_type": "stream",
     "text": [
      "=> X_train.shape :  (234777, 1)\n",
      "=> X_test.shape  :  (26087, 1)\n",
      "=> y_train.shape :  (234777,)\n",
      "=> y_test.shape  :  (26087,)\n"
     ]
    }
   ],
   "source": [
    "from sklearn.model_selection import train_test_split\n",
    "# Cross validation split\n",
    "X_train, X_test, y_train, y_test = train_test_split(\n",
    "    trainX, trainy, test_size = 0.1, random_state=1)\n",
    "debug_print(\"=> X_train.shape : \" , X_train.shape)\n",
    "debug_print(\"=> X_test.shape  : \" , X_test.shape)\n",
    "debug_print(\"=> y_train.shape : \" , y_train.shape)\n",
    "debug_print(\"=> y_test.shape  : \" , y_test.shape)"
   ]
  },
  {
   "cell_type": "code",
   "execution_count": 126,
   "metadata": {},
   "outputs": [],
   "source": [
    "verbose = False\n",
    "from sklearn.model_selection import KFold\n",
    "kf = KFold(n_splits=2)\n",
    "for index, (train, test) in enumerate(kf.split(X_train)):\n",
    "    debug_print(\"=> epoch #\", index,\"; #test:\" ,test.shape[0])\n",
    "    \n",
    "    \n",
    "    \n",
    "    \n",
    "    debug_print(\"=> acc (%)\")"
   ]
  },
  {
   "cell_type": "code",
   "execution_count": 116,
   "metadata": {},
   "outputs": [],
   "source": []
  },
  {
   "cell_type": "code",
   "execution_count": 118,
   "metadata": {},
   "outputs": [],
   "source": []
  },
  {
   "cell_type": "code",
   "execution_count": null,
   "metadata": {},
   "outputs": [],
   "source": []
  }
 ],
 "metadata": {
  "kernelspec": {
   "display_name": "Python 3",
   "language": "python",
   "name": "python3"
  },
  "language_info": {
   "codemirror_mode": {
    "name": "ipython",
    "version": 3
   },
   "file_extension": ".py",
   "mimetype": "text/x-python",
   "name": "python",
   "nbconvert_exporter": "python",
   "pygments_lexer": "ipython3",
   "version": "3.5.2"
  }
 },
 "nbformat": 4,
 "nbformat_minor": 2
}
